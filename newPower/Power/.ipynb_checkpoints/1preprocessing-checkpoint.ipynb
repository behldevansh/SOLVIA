{
 "cells": [
  {
   "cell_type": "code",
   "execution_count": 1,
   "metadata": {
    "colab": {
     "base_uri": "https://localhost:8080/"
    },
    "id": "b9RcFBruaonp",
    "outputId": "4da146e5-a952-4a91-c478-a22510391d47"
   },
   "outputs": [
    {
     "name": "stdout",
     "output_type": "stream",
     "text": [
      "4.263256414560601e-14 0.9999999999999994 1.5370078578076593e-16\n"
     ]
    }
   ],
   "source": [
    "import os\n",
    "import pandas as pd\n",
    "from sklearn.model_selection import train_test_split, GridSearchCV\n",
    "from sklearn.preprocessing import StandardScaler, PolynomialFeatures\n",
    "from sklearn.linear_model import LinearRegression, Ridge, Lasso\n",
    "from sklearn.tree import DecisionTreeRegressor\n",
    "from sklearn.ensemble import RandomForestRegressor, GradientBoostingRegressor\n",
    "from sklearn.metrics import mean_squared_error, mean_absolute_error, r2_score\n",
    "import numpy as np\n",
    "import matplotlib.pyplot as plt\n",
    "\n",
    "# from google.colab import drive\n",
    "# drive.mount('/content/drive')\n",
    "\n",
    "# File paths\n",
    "original_file_path = 'data.csv'\n",
    "processed_file_path = 'new.csv'\n",
    "\n",
    "# Check if the processed file exists\n",
    "if not os.path.exists(processed_file_path):\n",
    "    data = pd.read_csv(original_file_path)\n",
    "    data.head()\n",
    "    data[['metric_date', 'metric_time']] = data['Metric'].str.split(' ', expand=True)\n",
    "    missing_values = data.isna() | (data == '')\n",
    "    for col in data.columns:\n",
    "        if col not in ['metric_date', 'metric_time', 'Metric']:\n",
    "            for i in range(len(data)):\n",
    "                if missing_values[col][i]:\n",
    "                    prev_valid_index = i - 1\n",
    "                    while prev_valid_index >= 0 and missing_values[col][prev_valid_index]:\n",
    "                        prev_valid_index -= 1\n",
    "                    next_valid_index = i + 1\n",
    "                    while next_valid_index < len(data) and missing_values[col][next_valid_index]:\n",
    "                        next_valid_index += 1\n",
    "\n",
    "                    if prev_valid_index < 0:\n",
    "                        replacement_value = data.at[next_valid_index, col]\n",
    "                    elif next_valid_index >= len(data):\n",
    "                        replacement_value = data.at[prev_valid_index, col]\n",
    "                    else:\n",
    "                        replacement_value = (data.at[prev_valid_index, col] + data.at[next_valid_index, col]) / 2\n",
    "\n",
    "                    data.at[i, col] = replacement_value\n",
    "\n",
    "    data['metric_date'] = pd.to_datetime(data['metric_date'], dayfirst=True)\n",
    "    data['metric_time'] = pd.to_datetime(data['metric_time']).dt.time\n",
    "\n",
    "    # Feature Engineering\n",
    "    data['metric_time'] = data['metric_time'].apply(lambda x: x.hour * 3600 + x.minute * 60 + x.second)\n",
    "#     data['calculated_power'] = data['AC VOLTAGE-3 (V)'] * data['AC CURRENT-1 (A)']\n",
    "\n",
    "    initial_X = data[['PM2.5 (µg/m³)', 'WS (m/s)']]\n",
    "    initial_y = data['PM2.5 (µg/m³)']\n",
    "\n",
    "    model = LinearRegression()\n",
    "    model.fit(initial_X, initial_y)\n",
    "\n",
    "    intercept = model.intercept_\n",
    "    coef_pm25, coef_ws = model.coef_\n",
    "\n",
    "    print(intercept, coef_pm25, coef_ws)\n",
    "\n",
    "    data['dust_conc'] = intercept + coef_pm25 * data['PM2.5 (µg/m³)'] + coef_ws * data['WS (m/s)']\n",
    "\n",
    "    data.to_csv(processed_file_path, index=False)\n",
    "else:\n",
    "    data = pd.read_csv(processed_file_path)"
   ]
  },
  {
   "cell_type": "code",
   "execution_count": null,
   "metadata": {
    "id": "p2UQ4ICAbBWE"
   },
   "outputs": [],
   "source": []
  }
 ],
 "metadata": {
  "accelerator": "GPU",
  "colab": {
   "gpuType": "T4",
   "provenance": []
  },
  "kernelspec": {
   "display_name": "Python 3 (ipykernel)",
   "language": "python",
   "name": "python3"
  },
  "language_info": {
   "codemirror_mode": {
    "name": "ipython",
    "version": 3
   },
   "file_extension": ".py",
   "mimetype": "text/x-python",
   "name": "python",
   "nbconvert_exporter": "python",
   "pygments_lexer": "ipython3",
   "version": "3.12.4"
  }
 },
 "nbformat": 4,
 "nbformat_minor": 4
}
